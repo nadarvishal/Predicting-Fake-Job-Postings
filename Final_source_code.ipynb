{
 "cells": [
  {
   "cell_type": "code",
   "execution_count": 57,
   "id": "aac2f338",
   "metadata": {},
   "outputs": [],
   "source": [
    "\n",
    "import findspark\n",
    "findspark.init()\n",
    "#importing all essential libraries\n",
    "import pyspark\n",
    "from pyspark.sql import SparkSession\n",
    "from pyspark.sql.functions import *\n",
    "\n",
    "from pyspark.ml.feature import StopWordsRemover\n",
    "from pyspark.ml.feature import CountVectorizer\n",
    "from pyspark.ml.feature import VectorAssembler, VectorIndexer\n",
    "from pyspark.ml.feature import OneHotEncoder\n",
    "\n",
    "from pyspark.ml.tuning import ParamGridBuilder, CrossValidator\n",
    "\n",
    "\n",
    "from pyspark.ml.classification import LogisticRegression\n",
    "from pyspark.ml.classification import LinearSVC\n",
    "from pyspark.ml.classification import RandomForestClassifier\n",
    "from pyspark.ml.classification import MultilayerPerceptronClassifier\n",
    "\n",
    "from pyspark.ml.evaluation import MulticlassClassificationEvaluator\n"
   ]
  },
  {
   "cell_type": "code",
   "execution_count": 58,
   "id": "6462fab7",
   "metadata": {},
   "outputs": [],
   "source": [
    "#create a spark session\n",
    "spark = SparkSession.builder.master(\"local\").appName('Assignment2').getOrCreate()\n",
    "sc=spark.sparkContext"
   ]
  },
  {
   "cell_type": "code",
   "execution_count": 59,
   "id": "b69e4d2f",
   "metadata": {},
   "outputs": [],
   "source": [
    "#loaded the data here\n",
    "data = spark.read.csv(\"fake_job_postings.csv\", header=True)"
   ]
  },
  {
   "cell_type": "code",
   "execution_count": 60,
   "id": "9a910362",
   "metadata": {},
   "outputs": [
    {
     "name": "stdout",
     "output_type": "stream",
     "text": [
      "+------+--------------------+--------------------+----------+-------------+--------------------+--------------------+--------------------+--------------------+--------------------+----------------+-------------+---------------+-------------------+--------------------+--------------------+--------------------+----------+\n",
      "|job_id|               title|            location|department| salary_range|     company_profile|         description|        requirements|            benefits|       telecommuting|has_company_logo|has_questions|employment_type|required_experience|  required_education|            industry|            function|fraudulent|\n",
      "+------+--------------------+--------------------+----------+-------------+--------------------+--------------------+--------------------+--------------------+--------------------+----------------+-------------+---------------+-------------------+--------------------+--------------------+--------------------+----------+\n",
      "|     1|    Marketing Intern|    US, NY, New York| Marketing|         null|We're Food52, and...|Food52, a fast-gr...|Experience with c...|                null|                   0|               1|            0|          Other|         Internship|                null|                null|           Marketing|         0|\n",
      "|     2|Customer Service ...|      NZ, , Auckland|   Success|         null|90 Seconds, the w...|Organised - Focus...|What we expect fr...|What you will get...|                   0|               1|            0|      Full-time|     Not Applicable|                null|Marketing and Adv...|    Customer Service|         0|\n",
      "|     3|Commissioning Mac...|       US, IA, Wever|      null|         null|Valor Services pr...|Our client, locat...|Implement pre-com...|                null|                   0|               1|            0|           null|               null|                null|                null|                null|         0|\n",
      "|     4|Account Executive...|  US, DC, Washington|     Sales|         null|Our passion for i...|THE COMPANY: ESRI...|EDUCATION: Bachel...|Our culture is an...|                   0|               1|            0|      Full-time|   Mid-Senior level|   Bachelor's Degree|   Computer Software|               Sales|         0|\n",
      "|     5| Bill Review Manager|  US, FL, Fort Worth|      null|         null|SpotSource Soluti...|JOB TITLE: Itemiz...|QUALIFICATIONS:RN...|Full Benefits Off...|                   0|               1|            1|      Full-time|   Mid-Senior level|   Bachelor's Degree|Hospital & Health...|Health Care Provider|         0|\n",
      "|     6|    Accounting Clerk|            US, MD, |      null|         null|                null|Job OverviewApex ...|                null|                null|                   0|               0|            0|           null|               null|                null|                null|                null|         0|\n",
      "|     7|Head of Content (...|      DE, BE, Berlin|ANDROIDPIT|  20000-28000|Founded in 2009, ...|Your Responsibili...|Your Know-How:   ...|Your Benefits: Be...|                   0|               1|            1|      Full-time|   Mid-Senior level|     Master's Degree|        Online Media|          Management|         0|\n",
      "|     8|Lead Guest Servic...|US, CA, San Franc...|      null|         null|Airenvy’s mission...|Who is Airenvy?He...|Experience with C...|Competitive Pay. ...|                   0|               1|            1|           null|               null|                null|                null|                null|         0|\n",
      "|     9|          HP BSM SME|   US, FL, Pensacola|      null|         null|Solutions3 is a w...|Implementation/Co...|MUST BE A US CITI...|                null|                   0|               1|            1|      Full-time|          Associate|                null|Information Techn...|                null|         0|\n",
      "|    10|Customer Service ...|     US, AZ, Phoenix|      null|         null|Novitex Enterpris...|The Customer Serv...|Minimum Requireme...|                null|                   0|               1|            0|      Part-time|        Entry level|High School or eq...|  Financial Services|    Customer Service|         0|\n",
      "|    11|ASP.net Developer...| US, NJ, Jersey City|      null|100000-120000|                null|Position : #URL_8...|Position : #URL_8...|Benefits - FullBo...|                   0|               0|            0|      Full-time|   Mid-Senior level|   Bachelor's Degree|Information Techn...|Information Techn...|         0|\n",
      "|    12|Talent Sourcer (6...|     GB, LND, London|        HR|         null|Want to build a 2...|TransferWise is t...|We’re looking for...|You will join one...|                   0|               1|            0|           null|               null|                null|                null|                null|         0|\n",
      "|    13|Applications Deve...|    US, CT, Stamford|      null|         null|Novitex Enterpris...|The Applications ...|Requirements:4 – ...|                null|                   0|               1|            0|      Full-time|          Associate|   Bachelor's Degree|Management Consul...|Information Techn...|         0|\n",
      "|    14|          Installers|     US, FL, Orlando|      null|         null|Growing event pro...|Event Industry In...|Valid driver's li...|                null|                   0|               1|            1|      Full-time|     Not Applicable|         Unspecified|     Events Services|               Other|         0|\n",
      "|    15|Account Executive...|     AU, NSW, Sydney|     Sales|         null|Adthena is the UK...|Are you intereste...|You’ll need to be...|In return we'll p...|                   0|               1|            0|      Full-time|          Associate|   Bachelor's Degree|            Internet|               Sales|         0|\n",
      "|    16|VP of Sales - Vau...|   SG, 01, Singapore|     Sales|120000-150000|Jungle Ventures i...|About Vault Drago...|Key Superpowers3-...|\"Basic: SGD 120,0...| the way you want...|               0|            1|              1|          Full-time|           Executive|   Bachelor's Degree| Facilities Services|     Sales|\n",
      "|    17| Hands-On QA Leader |IL, , Tel Aviv, I...|       R&D|         null|At HoneyBook we’r...|We are looking fo...|Previous experien...|                null|                   0|               1|            0|      Full-time|   Mid-Senior level|                null|            Internet|         Engineering|         0|\n",
      "|    18|Southend-on-Sea T...|GB, SOS, Southend...|      null|         null|Established on th...|Government fundin...|16-18 year olds o...|   Career prospects.|                   0|               1|            1|           null|               null|                null|                null|                null|         0|\n",
      "|    19|     Visual Designer|    US, NY, New York|      null|         null|Kettle is an inde...|Kettle is hiring ...|                null|                null|                   0|               1|            0|           null|               null|                null|                null|                null|         0|\n",
      "|    20|Process Controls ...|US, PA, USA North...|      null|         null|We Provide Full T...|Experienced Proce...|Must have 5 or mo...|                null|                   0|               0|            0|      Full-time|               null|                null|                null|                null|         0|\n",
      "+------+--------------------+--------------------+----------+-------------+--------------------+--------------------+--------------------+--------------------+--------------------+----------------+-------------+---------------+-------------------+--------------------+--------------------+--------------------+----------+\n",
      "only showing top 20 rows\n",
      "\n"
     ]
    }
   ],
   "source": [
    "data.show()"
   ]
  },
  {
   "cell_type": "code",
   "execution_count": 61,
   "id": "8bb52b13",
   "metadata": {},
   "outputs": [
    {
     "name": "stdout",
     "output_type": "stream",
     "text": [
      "root\n",
      " |-- job_id: string (nullable = true)\n",
      " |-- title: string (nullable = true)\n",
      " |-- location: string (nullable = true)\n",
      " |-- department: string (nullable = true)\n",
      " |-- salary_range: string (nullable = true)\n",
      " |-- company_profile: string (nullable = true)\n",
      " |-- description: string (nullable = true)\n",
      " |-- requirements: string (nullable = true)\n",
      " |-- benefits: string (nullable = true)\n",
      " |-- telecommuting: string (nullable = true)\n",
      " |-- has_company_logo: string (nullable = true)\n",
      " |-- has_questions: string (nullable = true)\n",
      " |-- employment_type: string (nullable = true)\n",
      " |-- required_experience: string (nullable = true)\n",
      " |-- required_education: string (nullable = true)\n",
      " |-- industry: string (nullable = true)\n",
      " |-- function: string (nullable = true)\n",
      " |-- fraudulent: string (nullable = true)\n",
      "\n"
     ]
    }
   ],
   "source": [
    "data.printSchema()"
   ]
  },
  {
   "cell_type": "code",
   "execution_count": 62,
   "id": "663e07cd",
   "metadata": {},
   "outputs": [
    {
     "name": "stdout",
     "output_type": "stream",
     "text": [
      "root\n",
      " |-- title: string (nullable = true)\n",
      " |-- location: string (nullable = true)\n",
      " |-- department: string (nullable = true)\n",
      " |-- salary_range: string (nullable = true)\n",
      " |-- company_profile: string (nullable = true)\n",
      " |-- description: string (nullable = true)\n",
      " |-- requirements: string (nullable = true)\n",
      " |-- benefits: string (nullable = true)\n",
      " |-- telecommuting: string (nullable = true)\n",
      " |-- has_company_logo: string (nullable = true)\n",
      " |-- has_questions: string (nullable = true)\n",
      " |-- employment_type: string (nullable = true)\n",
      " |-- required_experience: string (nullable = true)\n",
      " |-- required_education: string (nullable = true)\n",
      " |-- industry: string (nullable = true)\n",
      " |-- function: string (nullable = true)\n",
      " |-- fraudulent: integer (nullable = true)\n",
      "\n"
     ]
    }
   ],
   "source": [
    "#converted label column to int\n",
    "data = data.withColumn(\"fraudulent\", data[\"fraudulent\"].cast(\"int\"))\n",
    "data = data.drop(\"job_id\")\n",
    "data.printSchema()"
   ]
  },
  {
   "cell_type": "code",
   "execution_count": 63,
   "id": "8d256360",
   "metadata": {},
   "outputs": [
    {
     "name": "stdout",
     "output_type": "stream",
     "text": [
      "+----------+\n",
      "|fraudulent|\n",
      "+----------+\n",
      "|         1|\n",
      "|         0|\n",
      "+----------+\n",
      "\n"
     ]
    }
   ],
   "source": [
    "# removed any other fraudulent data other than 0 or 1 value\n",
    "data = data.filter((data[\"fraudulent\"] == 0) | (data[\"fraudulent\"] == 1))\n",
    "data.select('fraudulent').distinct().show()"
   ]
  },
  {
   "cell_type": "code",
   "execution_count": 64,
   "id": "373d27aa",
   "metadata": {},
   "outputs": [
    {
     "name": "stdout",
     "output_type": "stream",
     "text": [
      "+-----+--------+----------+------------+---------------+-----------+------------+--------+-------------+----------------+-------------+---------------+-------------------+------------------+--------+--------+----------+\n",
      "|title|location|department|salary_range|company_profile|description|requirements|benefits|telecommuting|has_company_logo|has_questions|employment_type|required_experience|required_education|industry|function|fraudulent|\n",
      "+-----+--------+----------+------------+---------------+-----------+------------+--------+-------------+----------------+-------------+---------------+-------------------+------------------+--------+--------+----------+\n",
      "|    0|     337|     11039|       14258|           3206|          0|        2571|    6949|            0|               0|            0|           3273|               6675|              7661|    4667|    6158|         0|\n",
      "+-----+--------+----------+------------+---------------+-----------+------------+--------+-------------+----------------+-------------+---------------+-------------------+------------------+--------+--------+----------+\n",
      "\n",
      "16966\n"
     ]
    }
   ],
   "source": [
    "#calculating the total rows present in database\n",
    "data.select(*(sum(col(c).isNull().cast(\"int\")).alias(c) for c in data.columns)).show()\n",
    "rows = data.count()\n",
    "print(rows)"
   ]
  },
  {
   "cell_type": "code",
   "execution_count": 65,
   "id": "bf818813",
   "metadata": {},
   "outputs": [
    {
     "name": "stdout",
     "output_type": "stream",
     "text": [
      "the missing values are Row(title=0, location=337, department=11039, salary_range=14258, company_profile=3206, description=0, requirements=2571, benefits=6949, telecommuting=0, has_company_logo=0, has_questions=0, employment_type=3273, required_experience=6675, required_education=7661, industry=4667, function=6158, fraudulent=0)\n",
      "the missing value percent is Row(title=0.0, location=1.986325592361193, department=65.06542496758223, salary_range=84.03866556642697, company_profile=18.89661676293764, description=0.0, requirements=15.15383708593658, benefits=40.95838736296122, telecommuting=0.0, has_company_logo=0.0, has_questions=0.0, employment_type=19.29152422492043, required_experience=39.34339266768832, required_education=45.155015914181305, industry=27.507957090651892, function=36.296121655074856, fraudulent=0.0)\n",
      "the dropped column is ['location', 'department', 'salary_range', 'company_profile', 'requirements', 'benefits', 'employment_type', 'required_experience', 'required_education', 'industry', 'function']\n"
     ]
    }
   ],
   "source": [
    "#To check for missing values and removing columns which are having missing values greater than 1%\n",
    "amount_missing_df = data.select([(count(when(isnan(c) |col(c).isNull(),c ))).alias(c) for c in data.columns]).first()\n",
    "print(\"the missing values are\", amount_missing_df)\n",
    "amount_missing_df_percent = data.select([(count(when(isnan(c) |col(c).isNull(),c))/(rows/100)).alias(c) for c in data.columns]).first()\n",
    "print(\"the missing value percent is\",amount_missing_df_percent)\n",
    "cols_to_dop = [c for c in amount_missing_df.asDict() if amount_missing_df[c] >= (rows/100)]\n",
    "print(\"the dropped column is\",cols_to_dop)\n",
    "data = data.drop(*cols_to_dop)"
   ]
  },
  {
   "cell_type": "code",
   "execution_count": 66,
   "id": "9d3ae77c",
   "metadata": {},
   "outputs": [
    {
     "name": "stdout",
     "output_type": "stream",
     "text": [
      "root\n",
      " |-- title: string (nullable = true)\n",
      " |-- description: string (nullable = true)\n",
      " |-- telecommuting: string (nullable = true)\n",
      " |-- has_company_logo: string (nullable = true)\n",
      " |-- has_questions: string (nullable = true)\n",
      " |-- fraudulent: integer (nullable = true)\n",
      "\n"
     ]
    }
   ],
   "source": [
    "data.printSchema()"
   ]
  },
  {
   "cell_type": "code",
   "execution_count": 67,
   "id": "f8c560e9",
   "metadata": {},
   "outputs": [],
   "source": [
    "#combining data of all columns in a single column called alldata. the data is sepereated by a space \" \"\n",
    "data=data.withColumn(\"alldata\",concat_ws(\" \",col(\"title\"),col(\"description\")))"
   ]
  },
  {
   "cell_type": "code",
   "execution_count": 68,
   "id": "5c6175c3",
   "metadata": {},
   "outputs": [],
   "source": [
    "#turning 0,1 data into int\n",
    "data = data.withColumn(\"telecommuting\", data[\"telecommuting\"].cast(\"int\"))\n",
    "data = data.withColumn(\"has_company_logo\", data[\"has_company_logo\"].cast(\"int\"))\n",
    "data = data.withColumn(\"has_questions\", data[\"has_questions\"].cast(\"int\"))"
   ]
  },
  {
   "cell_type": "code",
   "execution_count": 69,
   "id": "0c86c2b1",
   "metadata": {},
   "outputs": [
    {
     "name": "stdout",
     "output_type": "stream",
     "text": [
      "+--------------------+--------------------+-------------+----------------+-------------+----------+--------------------+\n",
      "|               title|         description|telecommuting|has_company_logo|has_questions|fraudulent|             alldata|\n",
      "+--------------------+--------------------+-------------+----------------+-------------+----------+--------------------+\n",
      "|    Marketing Intern|Food52, a fast-gr...|            0|               1|            0|         0|marketing intern ...|\n",
      "|Customer Service ...|Organised - Focus...|            0|               1|            0|         0|customer service ...|\n",
      "|Commissioning Mac...|Our client, locat...|            0|               1|            0|         0|commissioning mac...|\n",
      "|Account Executive...|THE COMPANY: ESRI...|            0|               1|            0|         0|account executive...|\n",
      "| Bill Review Manager|JOB TITLE: Itemiz...|            0|               1|            1|         0|bill review manag...|\n",
      "|    Accounting Clerk|Job OverviewApex ...|            0|               0|            0|         0|accounting clerk ...|\n",
      "|Head of Content (...|Your Responsibili...|            0|               1|            1|         0|head of content m...|\n",
      "|Lead Guest Servic...|Who is Airenvy?He...|            0|               1|            1|         0|lead guest servic...|\n",
      "|          HP BSM SME|Implementation/Co...|            0|               1|            1|         0|hp bsm sme implem...|\n",
      "|Customer Service ...|The Customer Serv...|            0|               1|            0|         0|customer service ...|\n",
      "|ASP.net Developer...|Position : #URL_8...|            0|               0|            0|         0|asp net developer...|\n",
      "|Talent Sourcer (6...|TransferWise is t...|            0|               1|            0|         0|talent sourcer mo...|\n",
      "|Applications Deve...|The Applications ...|            0|               1|            0|         0|applications deve...|\n",
      "|          Installers|Event Industry In...|            0|               1|            1|         0|installers event ...|\n",
      "|Account Executive...|Are you intereste...|            0|               1|            0|         0|account executive...|\n",
      "| Hands-On QA Leader |We are looking fo...|            0|               1|            0|         0|hands on qa leade...|\n",
      "|Southend-on-Sea T...|Government fundin...|            0|               1|            1|         0|southend on sea t...|\n",
      "|     Visual Designer|Kettle is hiring ...|            0|               1|            0|         0|visual designer k...|\n",
      "|Process Controls ...|Experienced Proce...|            0|               0|            0|         0|process controls ...|\n",
      "| Marketing Assistant|IntelliBright is ...|            0|               1|            0|         0|marketing assista...|\n",
      "+--------------------+--------------------+-------------+----------------+-------------+----------+--------------------+\n",
      "only showing top 20 rows\n",
      "\n"
     ]
    }
   ],
   "source": [
    "#removing anything that is not a letter , removing multiple spaces and converting all text to lower case letters\n",
    "data = data.withColumn(\"alldata\",regexp_replace(\"alldata\", \"[^A-Za-z_]\", \" \"))\n",
    "data = data.withColumn(\"alldata\",regexp_replace(\"alldata\", \" +\", \" \"))\n",
    "data = data.withColumn(\"alldata\", lower(col(\"alldata\")))\n",
    "data.show()"
   ]
  },
  {
   "cell_type": "code",
   "execution_count": 70,
   "id": "c5494647",
   "metadata": {},
   "outputs": [
    {
     "name": "stdout",
     "output_type": "stream",
     "text": [
      "ratio: 17\n",
      "+----------+-----+\n",
      "|fraudulent|count|\n",
      "+----------+-----+\n",
      "|         0|  921|\n",
      "|         1|  886|\n",
      "+----------+-----+\n",
      "\n"
     ]
    }
   ],
   "source": [
    "#undersampling the fraudulent column as number of fraudulent value 0 is high\n",
    "major_df = data.filter(col(\"fraudulent\") == 0)\n",
    "minor_df = data.filter(col(\"fraudulent\") == 1)\n",
    "ratio = int(major_df.count()/minor_df.count())\n",
    "ratio -= 1\n",
    "print(\"ratio: {}\".format(ratio))\n",
    "\n",
    "data = data.sampleBy(\"fraudulent\", fractions={0:(1/ratio),1:1}, seed=0 )\n",
    "data.groupBy(\"fraudulent\").count().orderBy(desc(\"count\")).show()"
   ]
  },
  {
   "cell_type": "code",
   "execution_count": 71,
   "id": "4c5a5cc8",
   "metadata": {},
   "outputs": [
    {
     "name": "stdout",
     "output_type": "stream",
     "text": [
      "+--------------------+--------------------+-------------+----------------+-------------+----------+--------------------+\n",
      "|               title|         description|telecommuting|has_company_logo|has_questions|fraudulent|             alldata|\n",
      "+--------------------+--------------------+-------------+----------------+-------------+----------+--------------------+\n",
      "|Customer Service ...|The Customer Serv...|            0|               1|            0|         0|[customer, servic...|\n",
      "|Talent Management...|(We have more tha...|            0|               0|            0|         0|[talent, manageme...|\n",
      "|Graduates: Englis...|Play with kids, g...|            0|               1|            1|         0|[graduates, engli...|\n",
      "|   Digital Developer|We are a boutique...|         null|            null|         null|         1|[digital, develop...|\n",
      "|Ruby Automation E...|Position # 1Ruby ...|            0|               0|            1|         0|[ruby, automation...|\n",
      "|Customer Service ...|The Customer Serv...|            0|               1|            0|         0|[customer, servic...|\n",
      "|     IC&E Technician|IC&amp;E Technici...|            0|               1|            1|         1|[ic, e, technicia...|\n",
      "|Executive Adminis...|The Executive Adm...|            0|               1|            0|         0|[executive, admin...|\n",
      "|        Forward Cap.|The group has rai...|            0|               0|            0|         1|[forward, cap, th...|\n",
      "|  .NET Web Developer|establishing a de...|            0|               1|            0|         0|[, net, web, deve...|\n",
      "|      CNC Programmer|(We have more tha...|            0|               0|            0|         0|[cnc, programmer,...|\n",
      "|Technician Instru...|Technician Instru...|            0|               1|            1|         1|[technician, inst...|\n",
      "|     Sales Executive|     Sales Executive|            0|               0|            0|         1|[sales, executive...|\n",
      "|Medical Scribe (T...|As a medical scri...|            0|               1|            1|         0|[medical, scribe,...|\n",
      "|       Media Planner|This is a new rol...|            0|               1|            1|         0|[media, planner, ...|\n",
      "|IC&E Technician M...|IC&amp;E Technici...|            0|               1|            1|         1|[ic, e, technicia...|\n",
      "|Head of Client Se...|** NO RECRUITMENT...|            0|               1|            0|         0|[head, of, client...|\n",
      "|Service Delivery ...| The Service Deli...|            0|               1|            0|         0|[service, deliver...|\n",
      "|    Branch Associate|Would you like to...|            0|               1|            1|         0|[branch, associat...|\n",
      "|Customer Service ...|The Customer Serv...|            0|               1|            0|         0|[customer, servic...|\n",
      "+--------------------+--------------------+-------------+----------------+-------------+----------+--------------------+\n",
      "only showing top 20 rows\n",
      "\n"
     ]
    }
   ],
   "source": [
    "#spliting the data into words seperated by spaces.\n",
    "data = data.withColumn(\"alldata\",split(col(\"alldata\"),\" \"))\n",
    "data.show()"
   ]
  },
  {
   "cell_type": "code",
   "execution_count": 72,
   "id": "2b475154",
   "metadata": {},
   "outputs": [
    {
     "name": "stdout",
     "output_type": "stream",
     "text": [
      "+--------------------+--------------------+-------------+----------------+-------------+----------+--------------------+\n",
      "|               title|         description|telecommuting|has_company_logo|has_questions|fraudulent|             alldata|\n",
      "+--------------------+--------------------+-------------+----------------+-------------+----------+--------------------+\n",
      "|Customer Service ...|The Customer Serv...|            0|               1|            0|         0|[customer, servic...|\n",
      "|Talent Management...|(We have more tha...|            0|               0|            0|         0|[talent, manageme...|\n",
      "|Graduates: Englis...|Play with kids, g...|            0|               1|            1|         0|[graduates, engli...|\n",
      "|   Digital Developer|We are a boutique...|         null|            null|         null|         1|[digital, develop...|\n",
      "|Ruby Automation E...|Position # 1Ruby ...|            0|               0|            1|         0|[ruby, automation...|\n",
      "|Customer Service ...|The Customer Serv...|            0|               1|            0|         0|[customer, servic...|\n",
      "|     IC&E Technician|IC&amp;E Technici...|            0|               1|            1|         1|[ic, e, technicia...|\n",
      "|Executive Adminis...|The Executive Adm...|            0|               1|            0|         0|[executive, admin...|\n",
      "|        Forward Cap.|The group has rai...|            0|               0|            0|         1|[forward, cap, gr...|\n",
      "|  .NET Web Developer|establishing a de...|            0|               1|            0|         0|[, net, web, deve...|\n",
      "|      CNC Programmer|(We have more tha...|            0|               0|            0|         0|[cnc, programmer,...|\n",
      "|Technician Instru...|Technician Instru...|            0|               1|            1|         1|[technician, inst...|\n",
      "|     Sales Executive|     Sales Executive|            0|               0|            0|         1|[sales, executive...|\n",
      "|Medical Scribe (T...|As a medical scri...|            0|               1|            1|         0|[medical, scribe,...|\n",
      "|       Media Planner|This is a new rol...|            0|               1|            1|         0|[media, planner, ...|\n",
      "|IC&E Technician M...|IC&amp;E Technici...|            0|               1|            1|         1|[ic, e, technicia...|\n",
      "|Head of Client Se...|** NO RECRUITMENT...|            0|               1|            0|         0|[head, client, se...|\n",
      "|Service Delivery ...| The Service Deli...|            0|               1|            0|         0|[service, deliver...|\n",
      "|    Branch Associate|Would you like to...|            0|               1|            1|         0|[branch, associat...|\n",
      "|Customer Service ...|The Customer Serv...|            0|               1|            0|         0|[customer, servic...|\n",
      "+--------------------+--------------------+-------------+----------------+-------------+----------+--------------------+\n",
      "only showing top 20 rows\n",
      "\n"
     ]
    }
   ],
   "source": [
    "#removing all the stopwords from the text.\n",
    "sga = StopWordsRemover(inputCol=\"alldata\",outputCol=\"stopall\");\n",
    "data = sga.transform(data)\n",
    "data = data.drop(\"alldata\")\n",
    "data = data.withColumnRenamed(\"stopall\",\"alldata\")\n",
    "data.show()"
   ]
  },
  {
   "cell_type": "code",
   "execution_count": 73,
   "id": "f8a7764e",
   "metadata": {},
   "outputs": [
    {
     "name": "stdout",
     "output_type": "stream",
     "text": [
      "+--------------------+--------------------+-------------+----------------+-------------+----------+--------------------+--------------------+\n",
      "|               title|         description|telecommuting|has_company_logo|has_questions|fraudulent|             alldata|                 vec|\n",
      "+--------------------+--------------------+-------------+----------------+-------------+----------+--------------------+--------------------+\n",
      "|Customer Service ...|The Customer Serv...|            0|               1|            0|         0|[customer, servic...|(15535,[1,2,8,9,1...|\n",
      "|Talent Management...|(We have more tha...|            0|               0|            0|         0|[talent, manageme...|(15535,[2,3,4,5,6...|\n",
      "|Graduates: Englis...|Play with kids, g...|            0|               1|            1|         0|[graduates, engli...|(15535,[14,61,108...|\n",
      "|   Digital Developer|We are a boutique...|         null|            null|         null|         1|[digital, develop...|(15535,[2,17,43,5...|\n",
      "|Ruby Automation E...|Position # 1Ruby ...|            0|               0|            1|         0|[ruby, automation...|(15535,[2,7,14,19...|\n",
      "|Customer Service ...|The Customer Serv...|            0|               1|            0|         0|[customer, servic...|(15535,[1,8,9,10,...|\n",
      "|     IC&E Technician|IC&amp;E Technici...|            0|               1|            1|         1|[ic, e, technicia...|(15535,[0,1,2,3,8...|\n",
      "|Executive Adminis...|The Executive Adm...|            0|               1|            0|         0|[executive, admin...|(15535,[0,1,10,11...|\n",
      "|        Forward Cap.|The group has rai...|            0|               0|            0|         1|[forward, cap, gr...|(15535,[2,14,22,2...|\n",
      "|  .NET Web Developer|establishing a de...|            0|               1|            0|         0|[, net, web, deve...|(15535,[1,2,17,18...|\n",
      "|      CNC Programmer|(We have more tha...|            0|               0|            0|         0|[cnc, programmer,...|(15535,[2,3,4,5,6...|\n",
      "|Technician Instru...|Technician Instru...|            0|               1|            1|         1|[technician, inst...|(15535,[0,2,3,8,9...|\n",
      "|     Sales Executive|     Sales Executive|            0|               0|            0|         1|[sales, executive...|(15535,[20,193],[...|\n",
      "|Medical Scribe (T...|As a medical scri...|            0|               1|            1|         0|[medical, scribe,...|(15535,[2,15,87,9...|\n",
      "|       Media Planner|This is a new rol...|            0|               1|            1|         0|[media, planner, ...|(15535,[1,2,7,8,1...|\n",
      "|IC&E Technician M...|IC&amp;E Technici...|            0|               1|            1|         1|[ic, e, technicia...|(15535,[0,1,2,3,8...|\n",
      "|Head of Client Se...|** NO RECRUITMENT...|            0|               1|            0|         0|[head, client, se...|(15535,[1,2,3,4,5...|\n",
      "|Service Delivery ...| The Service Deli...|            0|               1|            0|         0|[service, deliver...|(15535,[0,1,8,9,1...|\n",
      "|    Branch Associate|Would you like to...|            0|               1|            1|         0|[branch, associat...|(15535,[0,2,13,14...|\n",
      "|Customer Service ...|The Customer Serv...|            0|               1|            0|         0|[customer, servic...|(15535,[1,8,9,10,...|\n",
      "+--------------------+--------------------+-------------+----------------+-------------+----------+--------------------+--------------------+\n",
      "only showing top 20 rows\n",
      "\n"
     ]
    }
   ],
   "source": [
    "#converting words into vector form for training with ml models\n",
    "cv = CountVectorizer(inputCol=\"alldata\", outputCol=\"vec\")\n",
    "model = cv.fit(data)\n",
    "data = model.transform(data)\n",
    "data.show()"
   ]
  },
  {
   "cell_type": "code",
   "execution_count": 74,
   "id": "9ec7ebdf",
   "metadata": {},
   "outputs": [],
   "source": [
    "#removing possible null values from int columns\n",
    "data = data.na.fill(0)"
   ]
  },
  {
   "cell_type": "code",
   "execution_count": 75,
   "id": "febd1d00",
   "metadata": {},
   "outputs": [
    {
     "name": "stdout",
     "output_type": "stream",
     "text": [
      "+--------------------+----------+\n",
      "|               final|fraudulent|\n",
      "+--------------------+----------+\n",
      "|(15538,[1,2,8,9,1...|         0|\n",
      "|(15538,[2,3,4,5,6...|         0|\n",
      "|(15538,[14,61,108...|         0|\n",
      "|(15538,[2,17,43,5...|         1|\n",
      "|(15538,[2,7,14,19...|         0|\n",
      "|(15538,[1,8,9,10,...|         0|\n",
      "|(15538,[0,1,2,3,8...|         1|\n",
      "|(15538,[0,1,10,11...|         0|\n",
      "|(15538,[2,14,22,2...|         1|\n",
      "|(15538,[1,2,17,18...|         0|\n",
      "|(15538,[2,3,4,5,6...|         0|\n",
      "|(15538,[0,2,3,8,9...|         1|\n",
      "|(15538,[20,193,15...|         1|\n",
      "|(15538,[2,15,87,9...|         0|\n",
      "|(15538,[1,2,7,8,1...|         0|\n",
      "|(15538,[0,1,2,3,8...|         1|\n",
      "|(15538,[1,2,3,4,5...|         0|\n",
      "|(15538,[0,1,8,9,1...|         0|\n",
      "|(15538,[0,2,13,14...|         0|\n",
      "|(15538,[1,8,9,10,...|         0|\n",
      "+--------------------+----------+\n",
      "only showing top 20 rows\n",
      "\n"
     ]
    }
   ],
   "source": [
    "#encoding the int columns and using mixing the vectors into one vector column\n",
    "encoder = OneHotEncoder(inputCols=[\"telecommuting\", \"has_company_logo\", \"has_questions\"],outputCols=[\"Vec1\", \"Vec2\",\"Vec3\"])\n",
    "model = encoder.fit(data)\n",
    "encoded = model.transform(data)\n",
    "\n",
    "assembler1 = VectorAssembler(inputCols=[\"vec\", \"Vec1\", \"Vec2\",\"Vec3\"], outputCol=\"final\")\n",
    "\n",
    "data = assembler1.transform(encoded)\n",
    "data = data.select(\"final\",\"fraudulent\")\n",
    "data.show()"
   ]
  },
  {
   "cell_type": "code",
   "execution_count": 76,
   "id": "b3282a15",
   "metadata": {},
   "outputs": [],
   "source": [
    "#using a random split of 7:3 ration for training and test dataset respectively\n",
    "data = data.withColumnRenamed(\"final\",\"features\")\n",
    "data = data.select(\"features\",\"fraudulent\")\n",
    "trainTest = data.randomSplit([0.7, 0.3])\n",
    "traindf = trainTest[0]\n",
    "testdf = trainTest[1]"
   ]
  },
  {
   "cell_type": "code",
   "execution_count": 77,
   "id": "d4749773",
   "metadata": {},
   "outputs": [
    {
     "name": "stdout",
     "output_type": "stream",
     "text": [
      "+--------------------+----------+\n",
      "|            features|fraudulent|\n",
      "+--------------------+----------+\n",
      "|(15538,[0,1,2,3,4...|         0|\n",
      "|(15538,[0,1,2,3,4...|         0|\n",
      "|(15538,[0,1,2,3,4...|         0|\n",
      "|(15538,[0,1,2,3,4...|         0|\n",
      "|(15538,[0,1,2,3,4...|         1|\n",
      "|(15538,[0,1,2,3,4...|         0|\n",
      "|(15538,[0,1,2,3,4...|         0|\n",
      "|(15538,[0,1,2,3,4...|         0|\n",
      "|(15538,[0,1,2,3,4...|         0|\n",
      "|(15538,[0,1,2,3,4...|         1|\n",
      "|(15538,[0,1,2,3,4...|         0|\n",
      "|(15538,[0,1,2,3,4...|         1|\n",
      "|(15538,[0,1,2,3,4...|         1|\n",
      "|(15538,[0,1,2,3,4...|         1|\n",
      "|(15538,[0,1,2,3,4...|         1|\n",
      "|(15538,[0,1,2,3,4...|         0|\n",
      "|(15538,[0,1,2,3,4...|         1|\n",
      "|(15538,[0,1,2,3,4...|         1|\n",
      "|(15538,[0,1,2,3,4...|         0|\n",
      "|(15538,[0,1,2,3,4...|         1|\n",
      "+--------------------+----------+\n",
      "only showing top 20 rows\n",
      "\n"
     ]
    }
   ],
   "source": [
    "testdf.show()"
   ]
  },
  {
   "cell_type": "code",
   "execution_count": 78,
   "id": "79a9bbbf",
   "metadata": {},
   "outputs": [
    {
     "name": "stdout",
     "output_type": "stream",
     "text": [
      "Prediction Accuracy:  0.8614800759013282\n",
      "Prediction f1:  0.8614201003972137\n"
     ]
    }
   ],
   "source": [
    "#Here we run the Logistic Regression model\n",
    "lr = LogisticRegression(labelCol=\"fraudulent\", featuresCol=\"features\", maxIter=100)\n",
    "model=lr.fit(traindf)\n",
    "predict_test=model.transform(testdf)\n",
    "evaluator2=MulticlassClassificationEvaluator(labelCol=\"fraudulent\", predictionCol = \"prediction\",metricName=\"accuracy\")\n",
    "acc = evaluator2.evaluate(predict_test)\n",
    "print(\"Prediction Accuracy: \", acc)\n",
    "evaluator5=MulticlassClassificationEvaluator(labelCol=\"fraudulent\", predictionCol = \"prediction\",metricName=\"f1\")\n",
    "acc2 = evaluator5.evaluate(predict_test)\n",
    "print(\"Prediction f1: \", acc2)"
   ]
  },
  {
   "cell_type": "code",
   "execution_count": 79,
   "id": "72227a0b",
   "metadata": {},
   "outputs": [
    {
     "name": "stdout",
     "output_type": "stream",
     "text": [
      "Prediction Accuracy:  0.9089184060721063\n",
      "Prediction f1:  0.9088881769716683\n"
     ]
    }
   ],
   "source": [
    "# crossvalidation is used here to try different parameters that best fit the model with highest accuracy and f1 scrore\n",
    "paramGrid = ParamGridBuilder()\\\n",
    "    .addGrid(lr.maxIter,[10, 20, 30])\\\n",
    "    .addGrid(lr.elasticNetParam,[0.0, 0.5, 1.0])\\\n",
    "    .addGrid(lr.regParam,[0.01, 0.5, 2.0]) \\\n",
    "    .build()\n",
    "\n",
    "cv = CrossValidator(estimator=lr, estimatorParamMaps=paramGrid, evaluator=evaluator2, numFolds=10)\n",
    "cvModel = cv.fit(traindf)\n",
    "bmodel= cvModel.bestModel\n",
    "# running this model can take some time\n",
    "predict_train=bmodel.transform(traindf)\n",
    "predict_test=bmodel.transform(testdf)\n",
    "evaluator2=MulticlassClassificationEvaluator(labelCol=\"fraudulent\", predictionCol = \"prediction\",metricName=\"accuracy\")\n",
    "acc = evaluator2.evaluate(predict_test)\n",
    "print(\"Prediction Accuracy: \", acc)\n",
    "evaluator5=MulticlassClassificationEvaluator(labelCol=\"fraudulent\", predictionCol = \"prediction\",metricName=\"f1\")\n",
    "acc2 = evaluator5.evaluate(predict_test)\n",
    "print(\"Prediction f1: \", acc2)"
   ]
  },
  {
   "cell_type": "code",
   "execution_count": 80,
   "id": "65e396bb",
   "metadata": {},
   "outputs": [
    {
     "name": "stdout",
     "output_type": "stream",
     "text": [
      "the best maxIter is:  10\n",
      "the best elasticNetParam is:  0.5\n",
      "the best regParam is:  0.01\n"
     ]
    }
   ],
   "source": [
    "#with this we print the best parameters for the model.\n",
    "print(\"the best maxIter is: \", bmodel._java_obj.getMaxIter())\n",
    "print(\"the best elasticNetParam is: \", bmodel._java_obj.getElasticNetParam())\n",
    "print(\"the best regParam is: \", bmodel._java_obj.getRegParam())"
   ]
  },
  {
   "cell_type": "code",
   "execution_count": 81,
   "id": "f29cfb34",
   "metadata": {},
   "outputs": [
    {
     "name": "stdout",
     "output_type": "stream",
     "text": [
      "Prediction Accuracy:  0.8747628083491461\n",
      "Prediction f1:  0.8747943765059446\n"
     ]
    }
   ],
   "source": [
    "#LinearSVC is done here\n",
    "lsvc = LinearSVC(labelCol=\"fraudulent\", featuresCol=\"features\", maxIter=100)\n",
    "lsvc1 = lsvc.fit(traindf)\n",
    "pred = lsvc1.transform(testdf)\n",
    "#pred.show(3)\n",
    "evaluator2=MulticlassClassificationEvaluator(labelCol=\"fraudulent\", predictionCol = \"prediction\",metricName=\"accuracy\")\n",
    "acc = evaluator2.evaluate(pred)\n",
    "print(\"Prediction Accuracy: \", acc)\n",
    "evaluator6=MulticlassClassificationEvaluator(labelCol=\"fraudulent\", predictionCol = \"prediction\",metricName=\"f1\")\n",
    "acc2 = evaluator6.evaluate(pred)\n",
    "print(\"Prediction f1: \", acc2)"
   ]
  },
  {
   "cell_type": "code",
   "execution_count": 94,
   "id": "18fd2ed7",
   "metadata": {},
   "outputs": [
    {
     "name": "stdout",
     "output_type": "stream",
     "text": [
      "Prediction Accuracy:  0.8785578747628083\n",
      "Prediction f1:  0.8785884863087947\n",
      "the best maxIter is:  50\n",
      "the best threshold is:  0.0\n",
      "the best regParam is:  0.005\n"
     ]
    }
   ],
   "source": [
    "#for LinearSVC, parameters are changed and best parameter and accuracy is calculated.\n",
    "paramGrid = ParamGridBuilder()\\\n",
    "    .addGrid(lsvc.maxIter,[10, 20, 50])\\\n",
    "    .addGrid(lsvc.threshold,[0.0, 0.5, 1.0])\\\n",
    "    .addGrid(lsvc.regParam,[0.005, 0.01, 0.5]) \\\n",
    "    .build()\n",
    "\n",
    "cv = CrossValidator(estimator=lsvc, estimatorParamMaps=paramGrid, evaluator=evaluator2, numFolds=10)\n",
    "cvModel = cv.fit(traindf)\n",
    "bmodel= cvModel.bestModel\n",
    "# running this model can take some time\n",
    "predict_train=bmodel.transform(traindf)\n",
    "predict_test=bmodel.transform(testdf)\n",
    "evaluator2=MulticlassClassificationEvaluator(labelCol=\"fraudulent\", predictionCol = \"prediction\",metricName=\"accuracy\")\n",
    "acc = evaluator2.evaluate(predict_test)\n",
    "print(\"Prediction Accuracy: \", acc)\n",
    "evaluator5=MulticlassClassificationEvaluator(labelCol=\"fraudulent\", predictionCol = \"prediction\",metricName=\"f1\")\n",
    "acc2 = evaluator5.evaluate(predict_test)\n",
    "print(\"Prediction f1: \", acc2)\n",
    "print(\"the best maxIter is: \", bmodel._java_obj.getMaxIter())\n",
    "print(\"the best threshold is: \", bmodel._java_obj.getThreshold())\n",
    "print(\"the best regParam is: \", bmodel._java_obj.getRegParam())"
   ]
  },
  {
   "cell_type": "code",
   "execution_count": 83,
   "id": "b0a9ed90",
   "metadata": {},
   "outputs": [
    {
     "name": "stdout",
     "output_type": "stream",
     "text": [
      "Prediction Accuracy:  0.7419354838709677\n",
      "Prediction f1:  0.7342268951708071\n"
     ]
    }
   ],
   "source": [
    "#Random Forest Classifier is run here\n",
    "rf = RandomForestClassifier(labelCol=\"fraudulent\", featuresCol=\"features\")\n",
    "model = rf.fit(traindf)\n",
    "predrd = model.transform(testdf)\n",
    "#pred.show(3)\n",
    "evaluator2=MulticlassClassificationEvaluator(labelCol=\"fraudulent\", predictionCol = \"prediction\",metricName=\"accuracy\")\n",
    "acc = evaluator2.evaluate(predrd)\n",
    "print(\"Prediction Accuracy: \", acc)\n",
    "evaluator7=MulticlassClassificationEvaluator(labelCol=\"fraudulent\", predictionCol = \"prediction\",metricName=\"f1\")\n",
    "acc2 = evaluator7.evaluate(predrd)\n",
    "print(\"Prediction f1: \", acc2)"
   ]
  },
  {
   "cell_type": "code",
   "execution_count": 84,
   "id": "becd865f",
   "metadata": {},
   "outputs": [
    {
     "name": "stdout",
     "output_type": "stream",
     "text": [
      "Prediction Accuracy:  0.8538899430740038\n",
      "Prediction f1:  0.8532729175712896\n",
      "the best maxDepth is:  20\n",
      "the best numTrees is:  30\n"
     ]
    }
   ],
   "source": [
    "#parameters are again changed and best parameters and accuracy is printed\n",
    "paramGrid = ParamGridBuilder()\\\n",
    "    .addGrid(rf.maxDepth,[10, 15, 20])\\\n",
    "    .addGrid(rf.numTrees,[5, 10, 20, 30])\\\n",
    "    .build()\n",
    "\n",
    "cv = CrossValidator(estimator=rf, estimatorParamMaps=paramGrid, evaluator=evaluator2, numFolds=10)\n",
    "cvModel = cv.fit(traindf)\n",
    "bmodel= cvModel.bestModel\n",
    "# running this model can take some time\n",
    "predict_train=bmodel.transform(traindf)\n",
    "predict_test=bmodel.transform(testdf)\n",
    "evaluator2=MulticlassClassificationEvaluator(labelCol=\"fraudulent\", predictionCol = \"prediction\",metricName=\"accuracy\")\n",
    "acc = evaluator2.evaluate(predict_test)\n",
    "print(\"Prediction Accuracy: \", acc)\n",
    "evaluator5=MulticlassClassificationEvaluator(labelCol=\"fraudulent\", predictionCol = \"prediction\",metricName=\"f1\")\n",
    "acc2 = evaluator5.evaluate(predict_test)\n",
    "print(\"Prediction f1: \", acc2)\n",
    "print(\"the best maxDepth is: \", bmodel._java_obj.getMaxDepth())\n",
    "print(\"the best numTrees is: \", bmodel._java_obj.getNumTrees())"
   ]
  },
  {
   "cell_type": "code",
   "execution_count": 91,
   "id": "e26ccdca",
   "metadata": {},
   "outputs": [
    {
     "name": "stdout",
     "output_type": "stream",
     "text": [
      "Prediction Accuracy:  0.8519924098671727\n",
      "Prediction f1:  0.8520020024780092\n"
     ]
    }
   ],
   "source": [
    "#layers are present in multiplayer perceptron classifier with 1st and last number to be properly put for model to run\n",
    "layers=[15538,2,2,2]\n",
    "trainer = MultilayerPerceptronClassifier(labelCol=\"fraudulent\", featuresCol=\"features\", maxIter=30,layers=layers)\n",
    "# train the model\n",
    "model2 = trainer.fit(traindf)\n",
    "# compute accuracy on the test set\n",
    "result2 = model2.transform(testdf)\n",
    "evaluator4 = MulticlassClassificationEvaluator(labelCol=\"fraudulent\", predictionCol=\"prediction\", metricName=\"accuracy\")\n",
    "accuracy = evaluator4.evaluate(result2)\n",
    "print(\"Prediction Accuracy: \",accuracy)\n",
    "evaluator8 = MulticlassClassificationEvaluator(labelCol=\"fraudulent\", predictionCol=\"prediction\", metricName=\"f1\")\n",
    "accuracy2 = evaluator8.evaluate(result2)\n",
    "print(\"Prediction f1: \",accuracy2)"
   ]
  },
  {
   "cell_type": "code",
   "execution_count": 92,
   "id": "f4a36bff",
   "metadata": {},
   "outputs": [
    {
     "name": "stdout",
     "output_type": "stream",
     "text": [
      "Prediction Accuracy:  0.8614800759013282\n",
      "Prediction f1:  0.8614591277086479\n",
      "the best maxIter is:  50\n",
      "the best stepSize is:  0.01\n",
      "the best blockSize is:  10\n"
     ]
    }
   ],
   "source": [
    "#cross-validation for MultiplayerPerceptronClassifier\n",
    "paramGrid = ParamGridBuilder()\\\n",
    "    .addGrid(trainer.maxIter,[10, 25, 50])\\\n",
    "    .addGrid(trainer.stepSize,[0.01, 0.02, 0.04])\\\n",
    "    .addGrid(trainer.blockSize,[10, 25, 50]) \\\n",
    "    .build()\n",
    "\n",
    "cv = CrossValidator(estimator=trainer, estimatorParamMaps=paramGrid, evaluator=evaluator4, numFolds=10)\n",
    "cvModel = cv.fit(traindf)\n",
    "bmodel= cvModel.bestModel\n",
    "# running this model can take some time\n",
    "predict_train=bmodel.transform(traindf)\n",
    "predict_test=bmodel.transform(testdf)\n",
    "evaluator2=MulticlassClassificationEvaluator(labelCol=\"fraudulent\", predictionCol = \"prediction\",metricName=\"accuracy\")\n",
    "acc = evaluator2.evaluate(predict_test)\n",
    "print(\"Prediction Accuracy: \", acc)\n",
    "evaluator5=MulticlassClassificationEvaluator(labelCol=\"fraudulent\", predictionCol = \"prediction\",metricName=\"f1\")\n",
    "acc2 = evaluator5.evaluate(predict_test)\n",
    "print(\"Prediction f1: \", acc2)\n",
    "print(\"the best maxIter is: \", bmodel._java_obj.getMaxIter())\n",
    "print(\"the best stepSize is: \", bmodel._java_obj.getStepSize())\n",
    "print(\"the best blockSize is: \", bmodel._java_obj.getBlockSize())"
   ]
  },
  {
   "cell_type": "code",
   "execution_count": null,
   "id": "a9c16682",
   "metadata": {},
   "outputs": [],
   "source": []
  }
 ],
 "metadata": {
  "kernelspec": {
   "display_name": "Python 3 (ipykernel)",
   "language": "python",
   "name": "python3"
  },
  "language_info": {
   "codemirror_mode": {
    "name": "ipython",
    "version": 3
   },
   "file_extension": ".py",
   "mimetype": "text/x-python",
   "name": "python",
   "nbconvert_exporter": "python",
   "pygments_lexer": "ipython3",
   "version": "3.9.12"
  }
 },
 "nbformat": 4,
 "nbformat_minor": 5
}
